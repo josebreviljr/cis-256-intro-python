{
 "cells": [
  {
   "cell_type": "code",
   "execution_count": 8,
   "id": "36d801d5-b30b-4e6b-a6af-69c40b63b700",
   "metadata": {},
   "outputs": [
    {
     "name": "stdout",
     "output_type": "stream",
     "text": [
      "6\n",
      "4\n",
      "['a', 'b', 'c', 15]\n"
     ]
    }
   ],
   "source": [
    "items = ['a', 'b', 'c', 3, 15, '25']\n",
    "\n",
    "print(len(items))\n",
    "\n",
    "items.pop(3)\n",
    "items.pop()\n",
    "print(len(items))\n",
    "print(items)"
   ]
  },
  {
   "cell_type": "code",
   "execution_count": 17,
   "id": "05e451d3-a4eb-4b0c-95b6-6f9c80528d05",
   "metadata": {},
   "outputs": [
    {
     "name": "stdout",
     "output_type": "stream",
     "text": [
      "3\n"
     ]
    }
   ],
   "source": [
    "name = \"500 N\"\n",
    "cal1, cal2 = name[0,1,2]\n",
    "add = int(cal1) + int(cal2)\n",
    "\n",
    "print(add)"
   ]
  },
  {
   "cell_type": "code",
   "execution_count": 23,
   "id": "9f2bcbfd-b19e-473e-ba07-9190e8d10a93",
   "metadata": {},
   "outputs": [
    {
     "name": "stdout",
     "output_type": "stream",
     "text": [
      "Jose\n",
      "Jose_Brevil\n",
      "Jose\n"
     ]
    }
   ],
   "source": [
    "name = \"Jose\"\n",
    "print(name)\n",
    "name += \"_Brevil\"\n",
    "print(name)\n",
    "print(name[0:4])"
   ]
  },
  {
   "cell_type": "code",
   "execution_count": null,
   "id": "2cba08a0-6b79-409b-bac6-9865066b8153",
   "metadata": {},
   "outputs": [],
   "source": []
  }
 ],
 "metadata": {
  "kernelspec": {
   "display_name": "Python 3 (ipykernel)",
   "language": "python",
   "name": "python3"
  },
  "language_info": {
   "codemirror_mode": {
    "name": "ipython",
    "version": 3
   },
   "file_extension": ".py",
   "mimetype": "text/x-python",
   "name": "python",
   "nbconvert_exporter": "python",
   "pygments_lexer": "ipython3",
   "version": "3.13.7"
  }
 },
 "nbformat": 4,
 "nbformat_minor": 5
}
