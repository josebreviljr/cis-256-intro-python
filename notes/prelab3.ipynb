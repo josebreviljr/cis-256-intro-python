{
 "cells": [
  {
   "metadata": {},
   "cell_type": "markdown",
   "source": [
    "Notebook Exercises (not part of prelab)\n",
    "1. Write an if statement that checks if a number is a multiple of 3.\n",
    "2. Write an if-else statement that prints \"Even\" if a number is even and \"Odd\" otherwise.\n",
    "3. Write an if-elif-else statement to categorize a person's BMI into \"Underweight\" (BMI < 18.5), \"Normal weight\" (18.5 ≤ BMI < 25), or \"Overweight\" (BMI ≥ 25)."
   ],
   "id": "f1d173c4f69ebd93"
  },
  {
   "metadata": {
    "collapsed": true,
    "ExecuteTime": {
     "end_time": "2025-09-18T04:45:13.260389Z",
     "start_time": "2025-09-18T04:45:10.642553Z"
    }
   },
   "cell_type": "code",
   "outputs": [
    {
     "name": "stdout",
     "output_type": "stream",
     "text": [
      "The number is a multiple of 3\n"
     ]
    }
   ],
   "execution_count": 4,
   "source": [
    "# Multiple of 3 Checker\n",
    "number = int(input(\"Enter a number: \"))\n",
    "\n",
    "if number % 3 == 0:\n",
    "    print(\"The number is a multiple of 3\")\n",
    "else:\n",
    "    print(\"The number is not a multiple of 3\")"
   ],
   "id": "initial_id"
  },
  {
   "metadata": {
    "ExecuteTime": {
     "end_time": "2025-09-18T04:54:41.762511Z",
     "start_time": "2025-09-18T04:54:39.179278Z"
    }
   },
   "cell_type": "code",
   "outputs": [
    {
     "name": "stdout",
     "output_type": "stream",
     "text": [
      "The number is an even number\n"
     ]
    }
   ],
   "execution_count": 5,
   "source": [
    "# Odd-Even Checker\n",
    "number = int(input(\"Enter a number: \"))\n",
    "\n",
    "if number % 2 == 0:\n",
    "    print(\"The number is an even number\")\n",
    "else:\n",
    "    print(\"The number is not an even number\")"
   ],
   "id": "df42e63a1993e89"
  }
 ],
 "metadata": {
  "kernelspec": {
   "display_name": "Python 3",
   "language": "python",
   "name": "python3"
  },
  "language_info": {
   "codemirror_mode": {
    "name": "ipython",
    "version": 2
   },
   "file_extension": ".py",
   "mimetype": "text/x-python",
   "name": "python",
   "nbconvert_exporter": "python",
   "pygments_lexer": "ipython2",
   "version": "2.7.6"
  }
 },
 "nbformat": 4,
 "nbformat_minor": 5
}
