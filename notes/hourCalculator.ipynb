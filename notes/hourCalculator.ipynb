{
 "cells": [
  {
   "metadata": {},
   "cell_type": "markdown",
   "source": [
    "Jose F. Brevil, Jr.\\\n",
    "Student ID: 011064137\\\n",
    "Submission Date: 08.28.25\\\n",
    "Program: Activity 2.13.6\\\n",
    "Sources Consulted:\n",
    "* CIS 256 Week 1 Slides\n",
    "* [Runestone Academy - How to Think Like a Computer Scientist: Interactive Edition](https://runestone.academy/ns/books/published/thinkcspy/)\n",
    "* https://docs.python.org/3/library/time.html#time.localtime\n",
    "* https://stackoverflow.com/questions/4432208/what-is-the-result-of-modulo-operator-percent-sign-in-python\n",
    "* https://stackoverflow.com/questions/33191744/how-to-add-new-line-in-markdown-presentation\n",
    "* https://anvilproject.org/guides/content/creating-links\n",
    "\n",
    "By submitting this work, I attest that it is my original work and that I did not violate\n",
    "the University of Mississippi academic policies set forth in the M book or any\n",
    "policies of the course.\n"
   ],
   "id": "da5e9cfa25c0f521"
  },
  {
   "metadata": {},
   "cell_type": "markdown",
   "source": [
    "**Activity 2.13.6 ActiveCode:** \\\n",
    "Many people keep time using a 24 hour clock (11 is 11am and 23 is 11pm, 0 is midnight). If it is currently 13 and you set your alarm to go off in 50 hours, it will be 15 (3pm). Write a Python program to solve the general version of the above problem. Ask the user for the time now (in hours), and then ask for the number of hours to wait for the alarm. **Your program should output what the time will be on the clock when the alarm goes off.**"
   ],
   "id": "1fafecea-a692-46a3-b4f4-195c93b3d3e0"
  },
  {
   "cell_type": "code",
   "id": "fee3518c01cd6632",
   "metadata": {
    "ExecuteTime": {
     "end_time": "2025-08-30T04:05:56.263911Z",
     "start_time": "2025-08-30T04:05:52.088715Z"
    }
   },
   "source": [
    "import time\n",
    "current_time = time.localtime() # Setting current time from the time module\n",
    "\n",
    "print(f\"The current hour is: {current_time.tm_hour}\") # Accessing the hour component from current_time\n",
    "\n",
    "hours_until_alarm = input(\"How many hours until your alarm?\")\n",
    "\n",
    "final_calculation = (current_time.tm_hour - int(hours_until_alarm)) % 24 # Calculating what time will be on clock at alarm\n",
    "\n",
    "print(\"Calculating...\")\n",
    "time.sleep(1)\n",
    "print(f\"Your alarm will go off at hour {final_calculation}\")\n",
    "\n"
   ],
   "outputs": [
    {
     "name": "stdout",
     "output_type": "stream",
     "text": [
      "The current hour is: 23\n",
      "Calculating...\n",
      "Your alarm will go off at hour 13\n"
     ]
    }
   ],
   "execution_count": 1
  }
 ],
 "metadata": {
  "kernelspec": {
   "display_name": "Python 3 (ipykernel)",
   "language": "python",
   "name": "python3"
  },
  "language_info": {
   "codemirror_mode": {
    "name": "ipython",
    "version": 3
   },
   "file_extension": ".py",
   "mimetype": "text/x-python",
   "name": "python",
   "nbconvert_exporter": "python",
   "pygments_lexer": "ipython3",
   "version": "3.13.1"
  }
 },
 "nbformat": 4,
 "nbformat_minor": 5
}
