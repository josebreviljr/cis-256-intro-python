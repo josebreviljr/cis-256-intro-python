{
 "cells": [
  {
   "metadata": {},
   "cell_type": "markdown",
   "source": "Take the string, \"The cat in the hat ran on the mat and had a chat with a mouse and a crow. The crow's eggs hatched, and that's that on that.\" and only using the replace function replace the word hat with shoe so the sentence should now read, \"The cat in the shoe ran on the mat and had a chat with a mouse and a crow. The crow's eggs hatched, and that's that on that.\n",
   "id": "bd58865c58416d48"
  },
  {
   "metadata": {
    "ExecuteTime": {
     "end_time": "2025-09-12T04:40:22.311127Z",
     "start_time": "2025-09-12T04:40:22.305443Z"
    }
   },
   "cell_type": "code",
   "source": [
    "import math\n",
    "\n",
    "cat_string = \"The cat in the hat ran on the mat and had a chat with a mouse and a crow. The crow's eggs hatched, and that's on that.\"\n",
    "print(cat_string)\n",
    "new_string = cat_string.replace(\"hat\", \"shoe\", 1)\n",
    "print(new_string)"
   ],
   "id": "d3edfe112027a5cb",
   "outputs": [
    {
     "name": "stdout",
     "output_type": "stream",
     "text": [
      "The cat in the hat ran on the mat and had a chat with a mouse and a crow. The crow's eggs hatched, and that's on that.\n",
      "The cat in the shoe ran on the mat and had a chat with a mouse and a crow. The crow's eggs hatched, and that's on that.\n"
     ]
    }
   ],
   "execution_count": 5
  },
  {
   "metadata": {
    "ExecuteTime": {
     "end_time": "2025-09-12T05:32:35.356751Z",
     "start_time": "2025-09-12T05:32:35.353004Z"
    }
   },
   "cell_type": "code",
   "source": [
    "quantity = 5\n",
    "item = \"apples\"\n",
    "total_cost = 24.95\n",
    "formatted_order = \"I bought {} {} for a total of \" \\\n",
    "\"${:.3f}.\".format(quantity, item, total_cost)\n",
    "print(formatted_order)"
   ],
   "id": "ad5c7dfdb1ce212f",
   "outputs": [
    {
     "name": "stdout",
     "output_type": "stream",
     "text": [
      "I bought 5 apples for a total of $24.950.\n"
     ]
    }
   ],
   "execution_count": 7
  },
  {
   "metadata": {
    "ExecuteTime": {
     "end_time": "2025-09-12T06:10:33.032019Z",
     "start_time": "2025-09-12T06:10:33.027797Z"
    }
   },
   "cell_type": "code",
   "source": [
    "import math\n",
    "from datetime import date\n",
    "\n",
    "euler = math.e\n",
    "current_day = date.today().day\n",
    "current_month = date.today().month\n",
    "current_year = date.today().year\n",
    "print(current_day)\n",
    "\n",
    "formatted_e = \"As of {}th day of {}th month of {}, the current value of Euler's number is {:.3f}.\".format(date.today().day, date.today().month, date.today().year, euler)\n",
    "print(formatted_e)\n"
   ],
   "id": "bc1b73ec61e6ab3d",
   "outputs": [
    {
     "name": "stdout",
     "output_type": "stream",
     "text": [
      "12\n",
      "As of 12th day of 9th month of 2025, the current value of Euler's number is 2.718.\n"
     ]
    }
   ],
   "execution_count": 31
  }
 ],
 "metadata": {
  "kernelspec": {
   "display_name": "Python 3",
   "language": "python",
   "name": "python3"
  },
  "language_info": {
   "codemirror_mode": {
    "name": "ipython",
    "version": 2
   },
   "file_extension": ".py",
   "mimetype": "text/x-python",
   "name": "python",
   "nbconvert_exporter": "python",
   "pygments_lexer": "ipython2",
   "version": "2.7.6"
  }
 },
 "nbformat": 4,
 "nbformat_minor": 5
}
