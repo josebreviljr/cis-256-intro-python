{
 "cells": [
  {
   "cell_type": "markdown",
   "id": "1fafecea-a692-46a3-b4f4-195c93b3d3e0",
   "metadata": {},
   "source": [
    "Q: Many people keep time using a 24 hour clock (11 is 11am and 23 is 11pm, 0 is midnight). If it is currently 13 and you set your alarm to go off in 50 hours, it will be 15 (3pm). Write a Python program to solve the general version of the above problem. Ask the user for the time now (in hours), and then ask for the number of hours to wait for the alarm. **Your program should output what the time will be on the clock when the alarm goes off.**"
   ]
  },
  {
   "cell_type": "markdown",
   "id": "b22fae10c1f68cdf",
   "metadata": {
    "tags": [
     "Logic"
    ]
   },
   "source": [
    "# Logic:\n",
    "\n",
    "### Input: current_time (from a package), hours_until_alarm = input(int(current_time), input(int(hours_until_alarm)\n",
    "### Processing: (current_time + hours_until_alarm) // 24\n",
    "### Output: print(time_when_alarm_goes_off)\n",
    "\n"
   ]
  },
  {
   "cell_type": "code",
   "execution_count": 22,
   "id": "fee3518c01cd6632",
   "metadata": {
    "ExecuteTime": {
     "end_time": "2025-08-28T03:39:26.218249Z",
     "start_time": "2025-08-28T03:39:20.896777Z"
    }
   },
   "outputs": [
    {
     "name": "stdout",
     "output_type": "stream",
     "text": [
      "The current hour is: 22\n",
      "Calculating...\n",
      "Your alarm will go off on the 2nd hour\n"
     ]
    }
   ],
   "source": [
    "import time\n",
    "current_time = time.localtime() # Setting current time from the time module\n",
    "\n",
    "print(f\"The current hour is: {current_time.tm_hour}\") # Accessing the hour component from current_time\n",
    "\n",
    "hours_until_alarm = input(\"How many hours until your alarm?\")\n",
    "\n",
    "final_calculation = current_time.tm_hour - int(hours_until_alarm)\n",
    "\n",
    "print(\"Calculating...\")\n",
    "time.sleep(3)\n",
    "print(f\"Your alarm will go off on the {final_calculation}nd hour\")\n",
    "\n"
   ]
  },
  {
   "cell_type": "code",
   "execution_count": null,
   "id": "b49dfaf3eff56c65",
   "metadata": {},
   "outputs": [],
   "source": [
    "Current issue: logic error– find the current formula "
   ]
  }
 ],
 "metadata": {
  "kernelspec": {
   "display_name": "Python 3 (ipykernel)",
   "language": "python",
   "name": "python3"
  },
  "language_info": {
   "codemirror_mode": {
    "name": "ipython",
    "version": 3
   },
   "file_extension": ".py",
   "mimetype": "text/x-python",
   "name": "python",
   "nbconvert_exporter": "python",
   "pygments_lexer": "ipython3",
   "version": "3.13.1"
  }
 },
 "nbformat": 4,
 "nbformat_minor": 5
}
